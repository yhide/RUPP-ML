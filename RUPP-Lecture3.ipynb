{
 "cells": [
  {
   "cell_type": "markdown",
   "id": "304a7669",
   "metadata": {},
   "source": [
    "# Linear Regression and Linear Classification\n",
    "We will study the family of linear predictors, one of the most useful families of hypothesis classes.\n",
    "Many learning algorithms that are being widley used in practice rely on linear predictors.\n",
    "Especially, linear predictors are intuitive and easy to interpret.\n",
    "\n",
    "## Linear regression\n",
    "\n",
    "Let's start with linear regression.\n",
    "The linear regression is a model that predicts real values using a linear function.\n",
    "The linear regression is a kind of supervised learning; in supervised learning, we have a training data labeled with correct outputs.\n",
    "We assume a linear relationshipe between inputs, $\\mathcal{X}$ and outputs, $\\mathcal{Y}$.\n",
    "The relationship is mathematically defined below.\n",
    "$$y = f({\\mathbf x}) = \\sum_{i=1}^d w_i x_i + b = {\\mathbf w}^{\\rm T}{\\mathbf x} + b~~~({\\mathbf x} \\in {\\mathcal X}, y \\in {\\mathcal Y}, {\\mathbf w} \\in {\\mathbb R}^d)$$\n",
    "${\\mathbf w}$ is called a weight vector and $b$ a bias.\n",
    "The following figure shows an example of linear regression.\n",
    "The line goes through the vicinity of all samples."
   ]
  },
  {
   "cell_type": "code",
   "execution_count": 9,
   "id": "0887b7e5",
   "metadata": {
    "scrolled": true
   },
   "outputs": [
    {
     "data": {
      "image/png": "[encoded data removed]",
      "text/plain": [
       "<PIL.Image.Image image mode=RGB size=291x283>"
      ]
     },
     "execution_count": 9,
     "metadata": {},
     "output_type": "execute_result"
    }
   ],
   "source": [
    "from PIL import Image\n",
    "\n",
    "im = Image.open('linearRegression.jpg')\n",
    "im.resize((im.width // 2, im.height // 2))"
   ]
  },
  {
   "cell_type": "markdown",
   "id": "e031588c",
   "metadata": {},
   "source": [
    "## Linear regression\n",
    "### Problem setting\n",
    "To determine an appropriate linear function, it is necessary to evaluate how well it fits the data.\n",
    "Generally, such evaluation functions are called loss functions.\n",
    "The loss function is represented as $E(y, t)$, which takes the predicted value $y$ and the correct output (target value) $t$ as arguments.\n",
    "In linear regression, we usually use squared error.\n",
    "$$ E(y,t)= \\frac{1}{2}(y−t)^2 $$\n",
    "This is small when $y$ and $t$ are close together, and large when they are far apart. Generally, the value $y − t$ is known as the residual, and we’d like the residuals to be close to zero.\n",
    "By minimizing a cost function, which is averaged over all the training examples, we can determine the appropriate linear function through optimization.\n",
    "$$ L({\\mathbf w}, b) = \\frac{1}{N}\\sum_{i=1}^N E(y_i, t_i) = \\frac{1}{2N}\\sum_{i=1}^N \\left({\\mathbf w}^{\\rm T} {\\mathbf x}_i + b - t_i \\right)^2$$\n",
    "The final goal of linear regression is to determine the values of ${\\mathbf w}$ and b that minimize the loss function $L({\\mathbf w}, b)$.\n",
    "\n",
    "### Optimaization\n",
    "Minimizing the loss function is equivalent to solving an optimization problem, and differentiation is used for this purpose.\n",
    "Furthermore, since input data is typically represented as a multi-dimensional vector, the loss function becomes a function in a multi-dimensional space, making it impossible to visualize.\n",
    "Therefore, it is necessary to use differentiation to minimize the loss function.\n",
    "\n",
    "Since the loss function must be minimized with respect to ${\\mathbf w}$ or $b$, it is necessary to find the derivatives with respect to ${\\mathbf w}$ and $b$.\n",
    "$$\\frac{\\partial L({\\mathbf w}, b)}{\\partial {\\mathbf w}} = \\frac{1}{N} \\sum_{i=1}^N \\left( {\\mathbf x}_i ({\\mathbf w}^{\\rm T}{\\mathbf x}_i + b - t_i) \\right) $$\n",
    "$$\\frac{\\partial L({\\mathbf w}, b)}{\\partial b} = \\frac{1}{N} \\sum_{i=1}^N ({\\mathbf w}^{\\rm T}{\\mathbf x}_i + b - t_i) $$\n",
    "The loss function is originally a quadratic function with respect to ${\\mathbf w}$ and \n",
    "$b$ and it is a concave down function.\n",
    "Therefore, the point where the derivatives are zero becomes the minimum.\n",
    "Here, we will introduce two solutions: the analytical solution and the numerical solution.\n",
    "\n",
    "#### Analytic solution\n",
    "In this solution, we directly solve the following formulae.\n",
    "$$\\frac{1}{N} \\sum_{i=1}^N \\left( {\\mathbf x}_i ({\\mathbf w}^{\\rm T}{\\mathbf x}_i + b - t_i) \\right) = 0$$\n",
    "$$\\frac{1}{N} \\sum_{i=1}^N ({\\mathbf w}^{\\rm T}{\\mathbf x}_i + b - t_i) = 0$$\n",
    "\n",
    "To simplify the notation, we introduce new symbols to rewrite the above formulae in the form of linear algebra.\n",
    "$$ X = \\left( {\\mathbf x}'_1, {\\mathbf x}'_2, \\cdots, {\\mathbf x}'_N \\right)^{\\rm T}$$\n",
    "$$ {\\mathbf x}'_i = ({\\mathbf x}^{\\rm T}, 1)^{\\rm T} $$\n",
    "$X$ is the matrix where the expanded input of the training data is arranged as column vectors.\n",
    "Using $X$, we rewrite the previous formulae.\n",
    "$$ {\\mathbf y} = X{\\mathbf w}' $$\n",
    "$$ {\\mathbf w}' = ({\\mathbf w}^{\\rm T}, b)^{\\rm T} $$\n",
    "$$ L({\\mathbf w}') = \\frac{1}{2N} \\| {\\mathbf y} - {\\mathbf t} \\|^2 $$\n",
    "${\\mathbf w}'$ denotes the expanded weight including the bias and ${\\mathbf t}$ is $(t_1, t_2, \\cdots, t_N)^{\\rm T}$.\n",
    "So, the derivative is rewritten.\n",
    "$$ \\frac{1}{N}X^{\\rm T} \\left( X{\\mathbf w}' - {\\mathbf t} \\right) = 0 $$\n",
    "Finally, ${\\mathbf w}' = \\left( X^{\\rm T}X \\right)^{-1}X^{\\rm T} {\\mathbf t}$ is obtained and is the optimal weight.\n",
    "\n",
    "#### Numerical solution\n",
    "Minimizing the loss function is also possible using numerical approaches.\n",
    "Speaking concretely, it is gradient descent.\n",
    "The gradient descent is a kind of iterative algorithms, which means that we apply a certain update rule over and over again, and the iterates will gradually improve the loss function.\n",
    "In the gradient descent, we initialize the weight to arbitrary value (e.g. all zeros), and repeatedly adjust them in the direction that most decreases the loss function.\n",
    "We repeat the procedure until the loss function does not change.\n",
    "\n",
    "We can formalize the gradient descent using the following update rule.\n",
    "$$ {\\mathbf w} = {\\mathbf w} - \\alpha \\frac{\\partial L({\\mathbf w})}{\\partial {\\mathbf w}} = {\\mathbf w} - \\frac{\\alpha}{N}X^{\\rm T}\\left( X{\\mathbf w} - {\\mathbf t} \\right) $$\n",
    "$\\alpha$ is called the learning rate and it is generally set to a small value in advance."
   ]
  },
  {
   "cell_type": "markdown",
   "id": "e0f77ae8",
   "metadata": {},
   "source": [
    "## Linear classification\n",
    "\n",
    "By assuming a linear relationship between inputs and outputs, we can consider linear classification to estimate categories.\n",
    "Because the output is a categorical variable, it is common to add a sign function to the linear function.\n",
    "$$ y = {\\rm sign}\\left( {\\mathbf w}^{\\rm T} {\\mathbf x} + b\\right) = {\\rm sign}\\left(f({\\mathbf x}) \\right)$$\n",
    "$$ {\\rm sign}(z) = \\left\\{\\begin{align} +1 & (z > 0) \\\\ -1 & (z < 0) \\end{align}\\right.$$\n",
    "In the classification, ${\\mathcal Y} = \\{+1, -1\\}$.\n",
    "The line represents the decision boundary in the following figure."
   ]
  },
  {
   "cell_type": "code",
   "execution_count": 11,
   "id": "bd89c721",
   "metadata": {},
   "outputs": [
    {
     "data": {
      "image/png": "[encoded data removed]",
      "text/plain": [
       "<PIL.Image.Image image mode=RGB size=291x283>"
      ]
     },
     "execution_count": 11,
     "metadata": {},
     "output_type": "execute_result"
    }
   ],
   "source": [
    "from PIL import Image\n",
    "\n",
    "im = Image.open('linearClassification.jpg')\n",
    "im.resize((im.width//2, im.height//2))"
   ]
  },
  {
   "cell_type": "markdown",
   "id": "8593d12d",
   "metadata": {},
   "source": [
    "Generally, the linear function, $f({\\mathbf x})$, constructs a hyperplane and divides a space into two areas.\n",
    "One side denotes a positive and another side is negative.\n",
    "It means that the linear classification constructs a binary classifier.\n",
    "\n",
    "### Perceptron learning\n",
    "In linear classification, the goal is to find a boundary plane that classifies data according to its labels.\n",
    "Speaking concretely, a function outputs a positive value for an example when its label is 1 and outputs a negative value when its label is -1.\n",
    "The linear classification is trained with a method different from linear regression.\n",
    "Here, we will introduce the Perceptron learning rule.\n",
    "$$ \\Delta {\\mathbf w} = \\left\\{ \\begin{align} 0 & (ty > 0) \\\\ {\\mathbf x} & (ty \\le 0) \\end{align}\\right.$$\n",
    "$yt>0$ indicates that the prediction is correct, while $yt \\le 0$ indicates that the prediction is incorrect.\n",
    "The weights are updated using $\\Delta {\\mathbf w}$ as follows.\n",
    "$$ {\\mathbf w} = {\\mathbf w} + \\alpha t\\Delta {\\mathbf w} $$\n",
    "\n",
    "Let's consider this update formula.\n",
    "Now, let's think about the case where $t=-1$ abd $y > 0$.\n",
    "In this case, $ty < 0$.\n",
    "We consider classifying the same example again using the updated ${\\mathbf w}$.\n",
    "$$ y = ({\\mathbf w} + \\alpha t{\\mathbf x})^{\\rm T} {\\mathbf x} = {\\mathbf w}^{\\rm T}{\\mathbf x} - \\alpha \\|{\\mathbf x}\\|^2 $$\n",
    "By using the updated weights, $y$ has become smaller.\n",
    "It indicates that learning is taking place in the correct direction.\n",
    "\n",
    "The perceptron learning rule is repeatedly applied until no more weight updates occur. \n",
    "As a result, when the updates are finished, all of the training data can be correctly classified.\n",
    "However, it is important to note that if the training data itself cannot be classified by a linear function (not linear separable), the updates may never end.\n",
    "\n",
    "## Assignment\n",
    "Construct a linear classifier using the Iris dataset.\n",
    "The Iris dataset can be downloaded using the following script."
   ]
  },
  {
   "cell_type": "code",
   "execution_count": 6,
   "id": "e69f44dc",
   "metadata": {},
   "outputs": [
    {
     "data": {
      "text/plain": [
       "'.. _iris_dataset:\\n\\nIris plants dataset\\n--------------------\\n\\n**Data Set Characteristics:**\\n\\n    :Number of Instances: 150 (50 in each of three classes)\\n    :Number of Attributes: 4 numeric, predictive attributes and the class\\n    :Attribute Information:\\n        - sepal length in cm\\n        - sepal width in cm\\n        - petal length in cm\\n        - petal width in cm\\n        - class:\\n                - Iris-Setosa\\n                - Iris-Versicolour\\n                - Iris-Virginica\\n                \\n    :Summary Statistics:\\n\\n    ============== ==== ==== ======= ===== ====================\\n                    Min  Max   Mean    SD   Class Correlation\\n    ============== ==== ==== ======= ===== ====================\\n    sepal length:   4.3  7.9   5.84   0.83    0.7826\\n    sepal width:    2.0  4.4   3.05   0.43   -0.4194\\n    petal length:   1.0  6.9   3.76   1.76    0.9490  (high!)\\n    petal width:    0.1  2.5   1.20   0.76    0.9565  (high!)\\n    ============== ==== ==== ======= ===== ====================\\n\\n    :Missing Attribute Values: None\\n    :Class Distribution: 33.3% for each of 3 classes.\\n    :Creator: R.A. Fisher\\n    :Donor: Michael Marshall (MARSHALL%PLU@io.arc.nasa.gov)\\n    :Date: July, 1988\\n\\nThe famous Iris database, first used by Sir R.A. Fisher. The dataset is taken\\nfrom Fisher\\'s paper. Note that it\\'s the same as in R, but not as in the UCI\\nMachine Learning Repository, which has two wrong data points.\\n\\nThis is perhaps the best known database to be found in the\\npattern recognition literature.  Fisher\\'s paper is a classic in the field and\\nis referenced frequently to this day.  (See Duda & Hart, for example.)  The\\ndata set contains 3 classes of 50 instances each, where each class refers to a\\ntype of iris plant.  One class is linearly separable from the other 2; the\\nlatter are NOT linearly separable from each other.\\n\\n.. topic:: References\\n\\n   - Fisher, R.A. \"The use of multiple measurements in taxonomic problems\"\\n     Annual Eugenics, 7, Part II, 179-188 (1936); also in \"Contributions to\\n     Mathematical Statistics\" (John Wiley, NY, 1950).\\n   - Duda, R.O., & Hart, P.E. (1973) Pattern Classification and Scene Analysis.\\n     (Q327.D83) John Wiley & Sons.  ISBN 0-471-22361-1.  See page 218.\\n   - Dasarathy, B.V. (1980) \"Nosing Around the Neighborhood: A New System\\n     Structure and Classification Rule for Recognition in Partially Exposed\\n     Environments\".  IEEE Transactions on Pattern Analysis and Machine\\n     Intelligence, Vol. PAMI-2, No. 1, 67-71.\\n   - Gates, G.W. (1972) \"The Reduced Nearest Neighbor Rule\".  IEEE Transactions\\n     on Information Theory, May 1972, 431-433.\\n   - See also: 1988 MLC Proceedings, 54-64.  Cheeseman et al\"s AUTOCLASS II\\n     conceptual clustering system finds 3 classes in the data.\\n   - Many, many more ...'"
      ]
     },
     "execution_count": 6,
     "metadata": {},
     "output_type": "execute_result"
    }
   ],
   "source": [
    "from sklearn.datasets import load_iris\n",
    "\n",
    "iris_data = load_iris()\n",
    "piris_data['DESCR']"
   ]
  },
  {
   "cell_type": "code",
   "execution_count": null,
   "id": "d3566fcf",
   "metadata": {},
   "outputs": [],
   "source": []
  }
 ],
 "metadata": {
  "kernelspec": {
   "display_name": "Python 3 (ipykernel)",
   "language": "python",
   "name": "python3"
  },
  "language_info": {
   "codemirror_mode": {
    "name": "ipython",
    "version": 3
   },
   "file_extension": ".py",
   "mimetype": "text/x-python",
   "name": "python",
   "nbconvert_exporter": "python",
   "pygments_lexer": "ipython3",
   "version": "3.9.13"
  }
 },
 "nbformat": 4,
 "nbformat_minor": 5
}
